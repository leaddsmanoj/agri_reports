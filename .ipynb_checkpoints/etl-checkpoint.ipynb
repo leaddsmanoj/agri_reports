{
 "cells": [
  {
   "cell_type": "code",
   "execution_count": 43,
   "id": "4e8abaff",
   "metadata": {},
   "outputs": [],
   "source": [
    "import petl as etl\n",
    "import pandas as pd"
   ]
  },
  {
   "cell_type": "code",
   "execution_count": 36,
   "id": "b341a0a7",
   "metadata": {},
   "outputs": [
    {
     "data": {
      "text/plain": [
       "<sqlite3.Connection at 0x2b984c57e40>"
      ]
     },
     "execution_count": 36,
     "metadata": {},
     "output_type": "execute_result"
    }
   ],
   "source": [
    "import sqlite3\n",
    "\n",
    "sqlitedb ='demo.db'\n",
    "# connect db\n",
    "conn = sqlite3.connect(sqlitedb) \n",
    "conn"
   ]
  },
  {
   "cell_type": "code",
   "execution_count": 37,
   "id": "4605325e",
   "metadata": {},
   "outputs": [],
   "source": [
    "# CRUD : Create, Read, Update, Delete\n",
    "cursor = conn.cursor()"
   ]
  },
  {
   "cell_type": "code",
   "execution_count": 38,
   "id": "3668c940",
   "metadata": {},
   "outputs": [
    {
     "name": "stdout",
     "output_type": "stream",
     "text": [
      "created a table\n"
     ]
    }
   ],
   "source": [
    "# create a table\n",
    "sql = ''' create table if not exists employee(\n",
    "  id integer PRIMARY KEY AUTOINCREMENT,\n",
    "  full_name char(30) not null,\n",
    "  age int,\n",
    "  email char(30)\n",
    ")'''\n",
    "\n",
    "cursor.execute(sql)\n",
    "conn.commit() # commit\n",
    "print('created a table')"
   ]
  },
  {
   "cell_type": "code",
   "execution_count": 39,
   "id": "cf69fc8e",
   "metadata": {},
   "outputs": [
    {
     "name": "stdout",
     "output_type": "stream",
     "text": [
      "inserted data\n"
     ]
    }
   ],
   "source": [
    "# create data\n",
    "\n",
    "cursor.execute(\" insert into employee(full_name,age,email) values('employee 1',20,'employee1@email.com')  \")\n",
    "cursor.execute(\" insert into employee(full_name,age,email) values('employee 2',25,'employee2@email.com')  \")\n",
    "cursor.execute(\" insert into employee(full_name,age,email) values('employee 3',27,'employee3@email.com')  \")\n",
    "cursor.execute(\" insert into employee(full_name,age,email) values('employee 4',28,'employee4@email.com')  \")\n",
    "cursor.execute(\" insert into employee(full_name,age,email) values('employee 5',22,'employee5@email.com')  \")\n",
    "conn.commit() # commit\n",
    "print('inserted data')"
   ]
  },
  {
   "cell_type": "code",
   "execution_count": 40,
   "id": "f0088102",
   "metadata": {},
   "outputs": [
    {
     "data": {
      "text/plain": [
       "[(1, 'employee 1', 20, 'employee1@email.com'),\n",
       " (2, 'employee 2', 25, 'employee2@email.com'),\n",
       " (3, 'employee 3', 27, 'employee3@email.com'),\n",
       " (4, 'employee 4', 28, 'employee4@email.com'),\n",
       " (5, 'employee 5', 22, 'employee5@email.com'),\n",
       " (6, 'employee 1', 20, 'employee1@email.com'),\n",
       " (7, 'employee 2', 25, 'employee2@email.com'),\n",
       " (8, 'employee 3', 27, 'employee3@email.com'),\n",
       " (9, 'employee 4', 28, 'employee4@email.com'),\n",
       " (10, 'employee 5', 22, 'employee5@email.com')]"
      ]
     },
     "execution_count": 40,
     "metadata": {},
     "output_type": "execute_result"
    }
   ],
   "source": [
    "# read data\n",
    "cursor.execute(\" select * from employee \")\n",
    "result = cursor.fetchall() # get all\n",
    "conn.commit()\n",
    "result"
   ]
  },
  {
   "cell_type": "code",
   "execution_count": 41,
   "id": "261c33a5",
   "metadata": {},
   "outputs": [
    {
     "data": {
      "text/plain": [
       "[(1, 'employee 1', 20, 'employee1@email.com'),\n",
       " (2, 'employee 2', 25, 'employee2@email.com'),\n",
       " (3, 'employee 3', 27, 'employee3@email.com'),\n",
       " (4, 'employee 4', 28, 'employee4@email.com'),\n",
       " (5, 'employee 5', 22, 'employee5@email.com'),\n",
       " (6, 'employee 1', 20, 'employee1@email.com'),\n",
       " (7, 'employee 2', 25, 'employee2@email.com'),\n",
       " (8, 'employee 3', 27, 'employee3@email.com'),\n",
       " (9, 'employee 4', 28, 'employee4@email.com'),\n",
       " (10, 'employee 5', 22, 'employee5@email.com')]"
      ]
     },
     "execution_count": 41,
     "metadata": {},
     "output_type": "execute_result"
    }
   ],
   "source": [
    "result"
   ]
  },
  {
   "cell_type": "code",
   "execution_count": null,
   "id": "56753f01",
   "metadata": {},
   "outputs": [],
   "source": [
    "etl.todb()"
   ]
  },
  {
   "cell_type": "code",
   "execution_count": null,
   "id": "2ec1027d",
   "metadata": {},
   "outputs": [],
   "source": [
    "conn = sqlite3.connect()"
   ]
  }
 ],
 "metadata": {
  "kernelspec": {
   "display_name": "Python 3 (ipykernel)",
   "language": "python",
   "name": "python3"
  },
  "language_info": {
   "codemirror_mode": {
    "name": "ipython",
    "version": 3
   },
   "file_extension": ".py",
   "mimetype": "text/x-python",
   "name": "python",
   "nbconvert_exporter": "python",
   "pygments_lexer": "ipython3",
   "version": "3.9.7"
  }
 },
 "nbformat": 4,
 "nbformat_minor": 5
}
