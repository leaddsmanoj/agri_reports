{
 "cells": [
  {
   "cell_type": "markdown",
   "id": "85036a8b",
   "metadata": {},
   "source": [
    "# Send Email Notification Python Script"
   ]
  },
  {
   "cell_type": "code",
   "execution_count": null,
   "id": "a4801088",
   "metadata": {},
   "outputs": [],
   "source": [
    "#pip install smtplib"
   ]
  },
  {
   "cell_type": "code",
   "execution_count": null,
   "id": "8186c1c1",
   "metadata": {},
   "outputs": [],
   "source": [
    "# Make your you EnableLessSecure from gmail to login in python"
   ]
  },
  {
   "cell_type": "code",
   "execution_count": 62,
   "id": "65ae1335",
   "metadata": {},
   "outputs": [],
   "source": [
    "import smtplib\n",
    "content = 'example email stuff here'\n",
    "mail = smtplib.SMTP('smtp.gmail.com',587)\n",
    "mail.ehlo()\n",
    "mail.starttls()\n",
    "mail.login('mk86.nift@gmail.com','manoj@007')\n",
    "mail.sendmail('mk86.nift@gmail.com','kumar.manoj@agribazaar.com',content)\n",
    "mail.close()"
   ]
  },
  {
   "cell_type": "code",
   "execution_count": 50,
   "id": "6978cf4a",
   "metadata": {},
   "outputs": [],
   "source": []
  },
  {
   "cell_type": "code",
   "execution_count": 57,
   "id": "e7da93df",
   "metadata": {},
   "outputs": [],
   "source": [
    "#pip install ssl"
   ]
  },
  {
   "cell_type": "code",
   "execution_count": 61,
   "id": "34a85f6b",
   "metadata": {},
   "outputs": [
    {
     "name": "stdout",
     "output_type": "stream",
     "text": [
      "Type your password and press enter: manoj@007\n"
     ]
    }
   ],
   "source": [
    "import smtplib, ssl\n",
    "\n",
    "port = 465  # For SSL\n",
    "smtp_server = \"smtp.gmail.com\"\n",
    "sender_email = \"mk86.nift@gmail.com\"  # Enter your address\n",
    "receiver_email = \"azzay.manoj@gmail.com\"  # Enter receiver address\n",
    "password = input(\"Type your password and press enter: \")\n",
    "message = \"\"\"\\\n",
    "Subject: Hi there\n",
    "\n",
    "This message is sent from Python 1.\"\"\"\n",
    "\n",
    "ontext = ssl.create_default_context()\n",
    "with smtplib.SMTP_SSL(smtp_server, port, context=context) as server:\n",
    "    server.login(sender_email, password)\n",
    "    server.sendmail(sender_email, receiver_email, message)"
   ]
  }
 ],
 "metadata": {
  "kernelspec": {
   "display_name": "Python 3 (ipykernel)",
   "language": "python",
   "name": "python3"
  },
  "language_info": {
   "codemirror_mode": {
    "name": "ipython",
    "version": 3
   },
   "file_extension": ".py",
   "mimetype": "text/x-python",
   "name": "python",
   "nbconvert_exporter": "python",
   "pygments_lexer": "ipython3",
   "version": "3.9.7"
  }
 },
 "nbformat": 4,
 "nbformat_minor": 5
}
