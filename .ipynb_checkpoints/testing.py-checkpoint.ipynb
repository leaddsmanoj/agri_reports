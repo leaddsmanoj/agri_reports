{
 "cells": [
  {
   "cell_type": "code",
   "execution_count": null,
   "id": "31430afe",
   "metadata": {},
   "outputs": [],
   "source": [
    "print('Its running')"
   ]
  },
  {
   "cell_type": "code",
   "execution_count": null,
   "id": "516f0119",
   "metadata": {},
   "outputs": [],
   "source": [
    "#seconds = 1545925769.9618232\n",
    "#start = time.time()\n",
    "#print(start)\n",
    "#time.sleep(2.4)\n",
    "#end = time.time()\n",
    "#local_time = time.ctime(end)\n",
    "#print(local_time)"
   ]
  },
  {
   "cell_type": "code",
   "execution_count": null,
   "id": "435dd2cc",
   "metadata": {},
   "outputs": [],
   "source": [
    "exp_table = \"\"\"\n",
    "drop table if exists agri_reports.st_users_exp;\n",
    "create table agri_reports.st_users_exp as \n",
    "select a.*, c.customer_type from govt_db.st_users a \n",
    "left join private_db.customers c on a.client_id = c.gov_db_client_id ;\n",
    "\n",
    "UPDATE agri_reports.st_users_exp\n",
    "SET client_type = \n",
    "    CASE \n",
    "    WHEN client_type = '11' THEN 'Farmer' else 'Trader'\n",
    "\"\"\""
   ]
  },
  {
   "cell_type": "code",
   "execution_count": null,
   "id": "e60ccf78",
   "metadata": {},
   "outputs": [],
   "source": [
    "#cursor.execute(exp_table)\n",
    "#db.close()"
   ]
  },
  {
   "cell_type": "code",
   "execution_count": null,
   "id": "e04162a5",
   "metadata": {},
   "outputs": [],
   "source": [
    "#local_time = time.ctime(seconds)"
   ]
  },
  {
   "cell_type": "code",
   "execution_count": null,
   "id": "b0430507",
   "metadata": {},
   "outputs": [],
   "source": []
  }
 ],
 "metadata": {
  "kernelspec": {
   "display_name": "Python 3 (ipykernel)",
   "language": "python",
   "name": "python3"
  },
  "language_info": {
   "codemirror_mode": {
    "name": "ipython",
    "version": 3
   },
   "file_extension": ".py",
   "mimetype": "text/x-python",
   "name": "python",
   "nbconvert_exporter": "python",
   "pygments_lexer": "ipython3",
   "version": "3.9.7"
  }
 },
 "nbformat": 4,
 "nbformat_minor": 5
}
