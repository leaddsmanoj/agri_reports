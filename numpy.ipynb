{
 "cells": [
  {
   "cell_type": "code",
   "execution_count": 1,
   "id": "4fbaf0dd",
   "metadata": {},
   "outputs": [],
   "source": [
    "import numpy as np"
   ]
  },
  {
   "cell_type": "code",
   "execution_count": 13,
   "id": "40a0f8cf",
   "metadata": {},
   "outputs": [],
   "source": [
    "#new array with 2 dimension integer datatype\n",
    "myarr = np.array([[1,2,3,4]], np.int8)"
   ]
  },
  {
   "cell_type": "code",
   "execution_count": 21,
   "id": "4c564f49",
   "metadata": {},
   "outputs": [],
   "source": [
    "# 1 dim array\n",
    "myarr1dim = np.array([1,2,3,4], np.int8)"
   ]
  },
  {
   "cell_type": "code",
   "execution_count": 24,
   "id": "eafc066c",
   "metadata": {},
   "outputs": [
    {
     "data": {
      "text/plain": [
       "2"
      ]
     },
     "execution_count": 24,
     "metadata": {},
     "output_type": "execute_result"
    }
   ],
   "source": [
    "myarr1dim[1]\n"
   ]
  },
  {
   "cell_type": "code",
   "execution_count": 25,
   "id": "6f54a913",
   "metadata": {},
   "outputs": [
    {
     "data": {
      "text/plain": [
       "array([[1, 2, 3, 4]], dtype=int8)"
      ]
     },
     "execution_count": 25,
     "metadata": {},
     "output_type": "execute_result"
    }
   ],
   "source": [
    "#access element\n",
    "myarr"
   ]
  },
  {
   "cell_type": "code",
   "execution_count": 27,
   "id": "7b89804c",
   "metadata": {},
   "outputs": [
    {
     "data": {
      "text/plain": [
       "2"
      ]
     },
     "execution_count": 27,
     "metadata": {},
     "output_type": "execute_result"
    }
   ],
   "source": [
    "#access element\n",
    "myarr1dim[1]"
   ]
  },
  {
   "cell_type": "code",
   "execution_count": 28,
   "id": "6ce3272d",
   "metadata": {},
   "outputs": [
    {
     "data": {
      "text/plain": [
       "(1, 4)"
      ]
     },
     "execution_count": 28,
     "metadata": {},
     "output_type": "execute_result"
    }
   ],
   "source": [
    "myarr.shape"
   ]
  },
  {
   "cell_type": "code",
   "execution_count": 29,
   "id": "2e295159",
   "metadata": {},
   "outputs": [
    {
     "data": {
      "text/plain": [
       "dtype('int8')"
      ]
     },
     "execution_count": 29,
     "metadata": {},
     "output_type": "execute_result"
    }
   ],
   "source": [
    "myarr.dtype"
   ]
  },
  {
   "cell_type": "code",
   "execution_count": 36,
   "id": "ce0429da",
   "metadata": {},
   "outputs": [
    {
     "data": {
      "text/plain": [
       "4"
      ]
     },
     "execution_count": 36,
     "metadata": {},
     "output_type": "execute_result"
    }
   ],
   "source": [
    "myarr.size"
   ]
  },
  {
   "cell_type": "code",
   "execution_count": 37,
   "id": "e61c7416",
   "metadata": {},
   "outputs": [
    {
     "data": {
      "text/plain": [
       "(1, 4)"
      ]
     },
     "execution_count": 37,
     "metadata": {},
     "output_type": "execute_result"
    }
   ],
   "source": [
    "myarr.shape"
   ]
  },
  {
   "cell_type": "code",
   "execution_count": 30,
   "id": "cb855839",
   "metadata": {},
   "outputs": [],
   "source": [
    "#change value in arry\n",
    "myarr[0,1] = 45"
   ]
  },
  {
   "cell_type": "code",
   "execution_count": 31,
   "id": "912306c4",
   "metadata": {},
   "outputs": [
    {
     "data": {
      "text/plain": [
       "array([[ 1, 45,  3,  4]], dtype=int8)"
      ]
     },
     "execution_count": 31,
     "metadata": {},
     "output_type": "execute_result"
    }
   ],
   "source": [
    "myarr"
   ]
  },
  {
   "cell_type": "code",
   "execution_count": null,
   "id": "b8b74d36",
   "metadata": {},
   "outputs": [],
   "source": [
    "#Conversion from other Python structures (i.e. lists and tuples)\n",
    "#Intrinsic NumPy array creation functions (e.g. arange, ones, zeros, etc.)\n",
    "#Replicating, joining, or mutating existing arrays\n",
    "#Reading arrays from disk, either from standard or custom formats\n",
    "#Creating arrays from raw bytes through the use of strings or buffers\n",
    "#Use of special library functions (e.g., random)"
   ]
  },
  {
   "cell_type": "code",
   "execution_count": 38,
   "id": "e34542af",
   "metadata": {},
   "outputs": [],
   "source": [
    "nyone = np.ones((5,5))"
   ]
  },
  {
   "cell_type": "code",
   "execution_count": 39,
   "id": "c09579c7",
   "metadata": {},
   "outputs": [
    {
     "data": {
      "text/plain": [
       "array([[1., 1., 1., 1., 1.],\n",
       "       [1., 1., 1., 1., 1.],\n",
       "       [1., 1., 1., 1., 1.],\n",
       "       [1., 1., 1., 1., 1.],\n",
       "       [1., 1., 1., 1., 1.]])"
      ]
     },
     "execution_count": 39,
     "metadata": {},
     "output_type": "execute_result"
    }
   ],
   "source": [
    "nyone"
   ]
  },
  {
   "cell_type": "code",
   "execution_count": 43,
   "id": "83422f52",
   "metadata": {},
   "outputs": [],
   "source": [
    "nyzero = np.zeros((5,5))"
   ]
  },
  {
   "cell_type": "code",
   "execution_count": 45,
   "id": "4dbaaef8",
   "metadata": {},
   "outputs": [
    {
     "data": {
      "text/plain": [
       "array([[0., 0., 0., 0., 0.],\n",
       "       [0., 0., 0., 0., 0.],\n",
       "       [0., 0., 0., 0., 0.],\n",
       "       [0., 0., 0., 0., 0.],\n",
       "       [0., 0., 0., 0., 0.]])"
      ]
     },
     "execution_count": 45,
     "metadata": {},
     "output_type": "execute_result"
    }
   ],
   "source": [
    "nyzero"
   ]
  },
  {
   "cell_type": "code",
   "execution_count": 46,
   "id": "46b3f920",
   "metadata": {},
   "outputs": [],
   "source": [
    "arange = np.arange(15)"
   ]
  },
  {
   "cell_type": "code",
   "execution_count": 47,
   "id": "c24400d2",
   "metadata": {},
   "outputs": [
    {
     "data": {
      "text/plain": [
       "array([ 0,  1,  2,  3,  4,  5,  6,  7,  8,  9, 10, 11, 12, 13, 14])"
      ]
     },
     "execution_count": 47,
     "metadata": {},
     "output_type": "execute_result"
    }
   ],
   "source": [
    "arange"
   ]
  },
  {
   "cell_type": "code",
   "execution_count": 48,
   "id": "1e18472a",
   "metadata": {},
   "outputs": [],
   "source": [
    "#linear space\n",
    "lspace = np.linspace(1,5,12)"
   ]
  },
  {
   "cell_type": "code",
   "execution_count": 49,
   "id": "3be32912",
   "metadata": {},
   "outputs": [
    {
     "data": {
      "text/plain": [
       "array([1.        , 1.36363636, 1.72727273, 2.09090909, 2.45454545,\n",
       "       2.81818182, 3.18181818, 3.54545455, 3.90909091, 4.27272727,\n",
       "       4.63636364, 5.        ])"
      ]
     },
     "execution_count": 49,
     "metadata": {},
     "output_type": "execute_result"
    }
   ],
   "source": [
    "lspace"
   ]
  },
  {
   "cell_type": "code",
   "execution_count": 58,
   "id": "8f47787e",
   "metadata": {},
   "outputs": [],
   "source": [
    "emp = np.empty((10,10))"
   ]
  },
  {
   "cell_type": "code",
   "execution_count": 59,
   "id": "714a164d",
   "metadata": {},
   "outputs": [
    {
     "data": {
      "text/plain": [
       "array([[0., 0., 0., 0., 0., 0., 0., 0., 0., 0.],\n",
       "       [0., 0., 0., 0., 0., 0., 0., 0., 0., 0.],\n",
       "       [0., 0., 0., 0., 0., 0., 0., 0., 0., 0.],\n",
       "       [0., 0., 0., 0., 0., 0., 0., 0., 0., 0.],\n",
       "       [0., 0., 0., 0., 0., 0., 0., 0., 0., 0.],\n",
       "       [0., 0., 0., 0., 0., 0., 0., 0., 0., 0.],\n",
       "       [0., 0., 0., 0., 0., 0., 0., 0., 0., 0.],\n",
       "       [0., 0., 0., 0., 0., 0., 0., 0., 0., 0.],\n",
       "       [0., 0., 0., 0., 0., 0., 0., 0., 0., 0.],\n",
       "       [0., 0., 0., 0., 0., 0., 0., 0., 0., 0.]])"
      ]
     },
     "execution_count": 59,
     "metadata": {},
     "output_type": "execute_result"
    }
   ],
   "source": [
    "emp"
   ]
  },
  {
   "cell_type": "code",
   "execution_count": 61,
   "id": "bcced9f6",
   "metadata": {},
   "outputs": [],
   "source": [
    "emp_like = np.empty_like(emp)"
   ]
  },
  {
   "cell_type": "code",
   "execution_count": 62,
   "id": "27d365de",
   "metadata": {},
   "outputs": [
    {
     "data": {
      "text/plain": [
       "array([[0., 0., 0., 0., 0., 0., 0., 0., 0., 0.],\n",
       "       [0., 0., 0., 0., 0., 0., 0., 0., 0., 0.],\n",
       "       [0., 0., 0., 0., 0., 0., 0., 0., 0., 0.],\n",
       "       [0., 0., 0., 0., 0., 0., 0., 0., 0., 0.],\n",
       "       [0., 0., 0., 0., 0., 0., 0., 0., 0., 0.],\n",
       "       [0., 0., 0., 0., 0., 0., 0., 0., 0., 0.],\n",
       "       [0., 0., 0., 0., 0., 0., 0., 0., 0., 0.],\n",
       "       [0., 0., 0., 0., 0., 0., 0., 0., 0., 0.],\n",
       "       [0., 0., 0., 0., 0., 0., 0., 0., 0., 0.],\n",
       "       [0., 0., 0., 0., 0., 0., 0., 0., 0., 0.]])"
      ]
     },
     "execution_count": 62,
     "metadata": {},
     "output_type": "execute_result"
    }
   ],
   "source": [
    "emp_like"
   ]
  },
  {
   "cell_type": "code",
   "execution_count": 63,
   "id": "c20313f3",
   "metadata": {},
   "outputs": [],
   "source": [
    "# give array of 10 x 10 of identity\n",
    "ide =  np.identity(10)"
   ]
  },
  {
   "cell_type": "code",
   "execution_count": 64,
   "id": "ac9c45c1",
   "metadata": {},
   "outputs": [
    {
     "data": {
      "text/plain": [
       "array([[1., 0., 0., 0., 0., 0., 0., 0., 0., 0.],\n",
       "       [0., 1., 0., 0., 0., 0., 0., 0., 0., 0.],\n",
       "       [0., 0., 1., 0., 0., 0., 0., 0., 0., 0.],\n",
       "       [0., 0., 0., 1., 0., 0., 0., 0., 0., 0.],\n",
       "       [0., 0., 0., 0., 1., 0., 0., 0., 0., 0.],\n",
       "       [0., 0., 0., 0., 0., 1., 0., 0., 0., 0.],\n",
       "       [0., 0., 0., 0., 0., 0., 1., 0., 0., 0.],\n",
       "       [0., 0., 0., 0., 0., 0., 0., 1., 0., 0.],\n",
       "       [0., 0., 0., 0., 0., 0., 0., 0., 1., 0.],\n",
       "       [0., 0., 0., 0., 0., 0., 0., 0., 0., 1.]])"
      ]
     },
     "execution_count": 64,
     "metadata": {},
     "output_type": "execute_result"
    }
   ],
   "source": [
    "ide"
   ]
  },
  {
   "cell_type": "code",
   "execution_count": 77,
   "id": "8361e5a4",
   "metadata": {},
   "outputs": [],
   "source": [
    "arr = np.arange(99)"
   ]
  },
  {
   "cell_type": "code",
   "execution_count": 79,
   "id": "5a520faf",
   "metadata": {},
   "outputs": [],
   "source": [
    "arr = arr.reshape(3,33)"
   ]
  },
  {
   "cell_type": "code",
   "execution_count": 82,
   "id": "81a322d8",
   "metadata": {},
   "outputs": [
    {
     "data": {
      "text/plain": [
       "array([ 0,  1,  2,  3,  4,  5,  6,  7,  8,  9, 10, 11, 12, 13, 14, 15, 16,\n",
       "       17, 18, 19, 20, 21, 22, 23, 24, 25, 26, 27, 28, 29, 30, 31, 32, 33,\n",
       "       34, 35, 36, 37, 38, 39, 40, 41, 42, 43, 44, 45, 46, 47, 48, 49, 50,\n",
       "       51, 52, 53, 54, 55, 56, 57, 58, 59, 60, 61, 62, 63, 64, 65, 66, 67,\n",
       "       68, 69, 70, 71, 72, 73, 74, 75, 76, 77, 78, 79, 80, 81, 82, 83, 84,\n",
       "       85, 86, 87, 88, 89, 90, 91, 92, 93, 94, 95, 96, 97, 98])"
      ]
     },
     "execution_count": 82,
     "metadata": {},
     "output_type": "execute_result"
    }
   ],
   "source": [
    "# design to 1d array\n",
    "arr.ravel()"
   ]
  },
  {
   "cell_type": "code",
   "execution_count": 84,
   "id": "d69809df",
   "metadata": {},
   "outputs": [],
   "source": [
    "ar = np.array([[1,2,3],[4,5,6],[7,0,1]])"
   ]
  },
  {
   "cell_type": "code",
   "execution_count": 85,
   "id": "705e8c29",
   "metadata": {},
   "outputs": [
    {
     "data": {
      "text/plain": [
       "array([[1, 2, 3],\n",
       "       [4, 5, 6],\n",
       "       [7, 0, 1]])"
      ]
     },
     "execution_count": 85,
     "metadata": {},
     "output_type": "execute_result"
    }
   ],
   "source": [
    "ar"
   ]
  },
  {
   "cell_type": "code",
   "execution_count": 97,
   "id": "a42c7a5d",
   "metadata": {},
   "outputs": [
    {
     "data": {
      "text/plain": [
       "array([12,  7, 10])"
      ]
     },
     "execution_count": 97,
     "metadata": {},
     "output_type": "execute_result"
    }
   ],
   "source": [
    "# axis = 0 is for row (goes to down) \n",
    "ar.sum(axis=0)"
   ]
  },
  {
   "cell_type": "code",
   "execution_count": 98,
   "id": "8193953c",
   "metadata": {},
   "outputs": [
    {
     "data": {
      "text/plain": [
       "array([ 6, 15,  8])"
      ]
     },
     "execution_count": 98,
     "metadata": {},
     "output_type": "execute_result"
    }
   ],
   "source": [
    " # axis = 1 is for column (goes to left to right) \n",
    "ar.sum(axis=1)"
   ]
  },
  {
   "cell_type": "code",
   "execution_count": 100,
   "id": "4802f6bc",
   "metadata": {},
   "outputs": [
    {
     "data": {
      "text/plain": [
       "array([[1, 4, 7],\n",
       "       [2, 5, 0],\n",
       "       [3, 6, 1]])"
      ]
     },
     "execution_count": 100,
     "metadata": {},
     "output_type": "execute_result"
    }
   ],
   "source": [
    "#Transpose the array (row to col and col to row)\n",
    "ar.T"
   ]
  },
  {
   "cell_type": "code",
   "execution_count": 104,
   "id": "353cc520",
   "metadata": {},
   "outputs": [
    {
     "data": {
      "text/plain": [
       "<numpy.flatiter at 0x24b49190880>"
      ]
     },
     "execution_count": 104,
     "metadata": {},
     "output_type": "execute_result"
    }
   ],
   "source": [
    "#flat the array, it returns iterator\n",
    "ar.flat"
   ]
  },
  {
   "cell_type": "code",
   "execution_count": 105,
   "id": "ab5fdfa4",
   "metadata": {},
   "outputs": [
    {
     "name": "stdout",
     "output_type": "stream",
     "text": [
      "1\n",
      "2\n",
      "3\n",
      "4\n",
      "5\n",
      "6\n",
      "7\n",
      "0\n",
      "1\n"
     ]
    }
   ],
   "source": [
    "for item in ar.flat:\n",
    "    print(item)"
   ]
  },
  {
   "cell_type": "code",
   "execution_count": 109,
   "id": "5cfd0cdb",
   "metadata": {},
   "outputs": [
    {
     "data": {
      "text/plain": [
       "2"
      ]
     },
     "execution_count": 109,
     "metadata": {},
     "output_type": "execute_result"
    }
   ],
   "source": [
    "#check dimension\n",
    "ar.ndim"
   ]
  },
  {
   "cell_type": "code",
   "execution_count": 110,
   "id": "ccb6b8cc",
   "metadata": {},
   "outputs": [
    {
     "data": {
      "text/plain": [
       "9"
      ]
     },
     "execution_count": 110,
     "metadata": {},
     "output_type": "execute_result"
    }
   ],
   "source": [
    "#nos of elements. this is attribute, when it ends with (), it become method\n",
    "ar.size"
   ]
  },
  {
   "cell_type": "code",
   "execution_count": 112,
   "id": "27a22f7b",
   "metadata": {},
   "outputs": [
    {
     "data": {
      "text/plain": [
       "36"
      ]
     },
     "execution_count": 112,
     "metadata": {},
     "output_type": "execute_result"
    }
   ],
   "source": [
    "#tell how much bytes consume in this array\n",
    "ar.nbytes"
   ]
  },
  {
   "cell_type": "code",
   "execution_count": 120,
   "id": "d7a4d756",
   "metadata": {},
   "outputs": [],
   "source": [
    "o = np.array([1,2,45,65,2])"
   ]
  },
  {
   "cell_type": "code",
   "execution_count": 121,
   "id": "ab32a31a",
   "metadata": {},
   "outputs": [
    {
     "data": {
      "text/plain": [
       "3"
      ]
     },
     "execution_count": 121,
     "metadata": {},
     "output_type": "execute_result"
    }
   ],
   "source": [
    "# returns the index of max value in index\n",
    "o.argmax()"
   ]
  },
  {
   "cell_type": "code",
   "execution_count": 122,
   "id": "1cf2c961",
   "metadata": {},
   "outputs": [
    {
     "data": {
      "text/plain": [
       "0"
      ]
     },
     "execution_count": 122,
     "metadata": {},
     "output_type": "execute_result"
    }
   ],
   "source": [
    "o.argmin()"
   ]
  },
  {
   "cell_type": "code",
   "execution_count": 127,
   "id": "52a185b4",
   "metadata": {},
   "outputs": [
    {
     "data": {
      "text/plain": [
       "array([0, 1, 4, 2, 3], dtype=int64)"
      ]
     },
     "execution_count": 127,
     "metadata": {},
     "output_type": "execute_result"
    }
   ],
   "source": [
    "#returns sort indices\n",
    "o.argsort()"
   ]
  },
  {
   "cell_type": "code",
   "execution_count": 129,
   "id": "d9b731cf",
   "metadata": {},
   "outputs": [
    {
     "data": {
      "text/plain": [
       "array([[1, 2, 3],\n",
       "       [4, 5, 6],\n",
       "       [7, 0, 1]])"
      ]
     },
     "execution_count": 129,
     "metadata": {},
     "output_type": "execute_result"
    }
   ],
   "source": [
    "ar"
   ]
  },
  {
   "cell_type": "code",
   "execution_count": 130,
   "id": "c5366bf0",
   "metadata": {},
   "outputs": [
    {
     "data": {
      "text/plain": [
       "6"
      ]
     },
     "execution_count": 130,
     "metadata": {},
     "output_type": "execute_result"
    }
   ],
   "source": [
    "# in 2 dims array, if we use argmin or max, it will first sort the array and return the index\n",
    "ar.argmax()"
   ]
  },
  {
   "cell_type": "code",
   "execution_count": 133,
   "id": "1930395f",
   "metadata": {},
   "outputs": [
    {
     "data": {
      "text/plain": [
       "array([2, 1, 1], dtype=int64)"
      ]
     },
     "execution_count": 133,
     "metadata": {},
     "output_type": "execute_result"
    }
   ],
   "source": [
    "ar.argmax(axis=0)"
   ]
  },
  {
   "cell_type": "code",
   "execution_count": 134,
   "id": "db97e797",
   "metadata": {},
   "outputs": [
    {
     "data": {
      "text/plain": [
       "array([2, 2, 0], dtype=int64)"
      ]
     },
     "execution_count": 134,
     "metadata": {},
     "output_type": "execute_result"
    }
   ],
   "source": [
    "ar.argmax(axis=1)"
   ]
  },
  {
   "cell_type": "code",
   "execution_count": 135,
   "id": "b502ea4f",
   "metadata": {},
   "outputs": [
    {
     "data": {
      "text/plain": [
       "array([[0, 1, 2],\n",
       "       [0, 1, 2],\n",
       "       [1, 2, 0]], dtype=int64)"
      ]
     },
     "execution_count": 135,
     "metadata": {},
     "output_type": "execute_result"
    }
   ],
   "source": [
    "ar.argsort(axis=1)"
   ]
  },
  {
   "cell_type": "code",
   "execution_count": 140,
   "id": "6c09d8b1",
   "metadata": {},
   "outputs": [
    {
     "data": {
      "text/plain": [
       "array([[1],\n",
       "       [2],\n",
       "       [3],\n",
       "       [4],\n",
       "       [5],\n",
       "       [6],\n",
       "       [7],\n",
       "       [0],\n",
       "       [1]])"
      ]
     },
     "execution_count": 140,
     "metadata": {},
     "output_type": "execute_result"
    }
   ],
   "source": [
    "ar.reshape((9,1))"
   ]
  },
  {
   "cell_type": "code",
   "execution_count": 143,
   "id": "3fd4d01b",
   "metadata": {},
   "outputs": [
    {
     "data": {
      "text/plain": [
       "array([1, 2, 3, 4, 5, 6, 7, 0, 1])"
      ]
     },
     "execution_count": 143,
     "metadata": {},
     "output_type": "execute_result"
    }
   ],
   "source": [
    "ar.reshape((9,))"
   ]
  },
  {
   "cell_type": "code",
   "execution_count": 146,
   "id": "a49c33aa",
   "metadata": {},
   "outputs": [
    {
     "data": {
      "text/plain": [
       "array([1, 2, 3, 4, 5, 6, 7, 0, 1])"
      ]
     },
     "execution_count": 146,
     "metadata": {},
     "output_type": "execute_result"
    }
   ],
   "source": [
    "ar.ravel()"
   ]
  },
  {
   "cell_type": "code",
   "execution_count": 147,
   "id": "0131bd89",
   "metadata": {},
   "outputs": [],
   "source": [
    "# matrix opertion\n",
    "ar2 = ar.copy()"
   ]
  },
  {
   "cell_type": "code",
   "execution_count": 148,
   "id": "637582c2",
   "metadata": {},
   "outputs": [
    {
     "data": {
      "text/plain": [
       "array([[ 2,  4,  6],\n",
       "       [ 8, 10, 12],\n",
       "       [14,  0,  2]])"
      ]
     },
     "execution_count": 148,
     "metadata": {},
     "output_type": "execute_result"
    }
   ],
   "source": [
    "ar + ar2"
   ]
  },
  {
   "cell_type": "code",
   "execution_count": 149,
   "id": "4a63df57",
   "metadata": {},
   "outputs": [
    {
     "data": {
      "text/plain": [
       "array([[1, 2, 3],\n",
       "       [4, 5, 6],\n",
       "       [7, 0, 1]])"
      ]
     },
     "execution_count": 149,
     "metadata": {},
     "output_type": "execute_result"
    }
   ],
   "source": [
    "ar"
   ]
  },
  {
   "cell_type": "code",
   "execution_count": 150,
   "id": "a36aa663",
   "metadata": {},
   "outputs": [
    {
     "data": {
      "text/plain": [
       "array([[ 1,  4,  9],\n",
       "       [16, 25, 36],\n",
       "       [49,  0,  1]])"
      ]
     },
     "execution_count": 150,
     "metadata": {},
     "output_type": "execute_result"
    }
   ],
   "source": [
    "ar * ar2"
   ]
  },
  {
   "cell_type": "code",
   "execution_count": 152,
   "id": "2904dd9c",
   "metadata": {},
   "outputs": [
    {
     "data": {
      "text/plain": [
       "array([[ 2,  4,  6],\n",
       "       [ 8, 10, 12],\n",
       "       [14,  0,  2]])"
      ]
     },
     "execution_count": 152,
     "metadata": {},
     "output_type": "execute_result"
    }
   ],
   "source": [
    "ar * 2"
   ]
  },
  {
   "cell_type": "code",
   "execution_count": 153,
   "id": "1539805b",
   "metadata": {},
   "outputs": [
    {
     "data": {
      "text/plain": [
       "array([[1.        , 1.41421356, 1.73205081],\n",
       "       [2.        , 2.23606798, 2.44948974],\n",
       "       [2.64575131, 0.        , 1.        ]])"
      ]
     },
     "execution_count": 153,
     "metadata": {},
     "output_type": "execute_result"
    }
   ],
   "source": [
    "np.sqrt(ar)"
   ]
  },
  {
   "cell_type": "code",
   "execution_count": 154,
   "id": "8ab1dd0b",
   "metadata": {},
   "outputs": [
    {
     "data": {
      "text/plain": [
       "0"
      ]
     },
     "execution_count": 154,
     "metadata": {},
     "output_type": "execute_result"
    }
   ],
   "source": [
    "ar.min()"
   ]
  },
  {
   "cell_type": "code",
   "execution_count": 155,
   "id": "4d526933",
   "metadata": {},
   "outputs": [
    {
     "data": {
      "text/plain": [
       "7"
      ]
     },
     "execution_count": 155,
     "metadata": {},
     "output_type": "execute_result"
    }
   ],
   "source": [
    "ar.max()"
   ]
  },
  {
   "cell_type": "code",
   "execution_count": 156,
   "id": "cf5df6e2",
   "metadata": {},
   "outputs": [
    {
     "data": {
      "text/plain": [
       "29"
      ]
     },
     "execution_count": 156,
     "metadata": {},
     "output_type": "execute_result"
    }
   ],
   "source": [
    "ar.sum()"
   ]
  },
  {
   "cell_type": "code",
   "execution_count": 160,
   "id": "8be2bf97",
   "metadata": {},
   "outputs": [
    {
     "data": {
      "text/plain": [
       "tuple"
      ]
     },
     "execution_count": 160,
     "metadata": {},
     "output_type": "execute_result"
    }
   ],
   "source": [
    "# find the element. it return tuple array\n",
    "type(np.where(ar>5))"
   ]
  },
  {
   "cell_type": "code",
   "execution_count": 162,
   "id": "b551a740",
   "metadata": {},
   "outputs": [
    {
     "data": {
      "text/plain": [
       "8"
      ]
     },
     "execution_count": 162,
     "metadata": {},
     "output_type": "execute_result"
    }
   ],
   "source": [
    "# return non-zero element\n",
    "np.count_nonzero(ar)"
   ]
  },
  {
   "cell_type": "code",
   "execution_count": 164,
   "id": "cf11c8b7",
   "metadata": {},
   "outputs": [
    {
     "data": {
      "text/plain": [
       "(array([0, 0, 0, 1, 1, 1, 2, 2], dtype=int64),\n",
       " array([0, 1, 2, 0, 1, 2, 0, 2], dtype=int64))"
      ]
     },
     "execution_count": 164,
     "metadata": {},
     "output_type": "execute_result"
    }
   ],
   "source": [
    "#return non-zero index, we have zero at 2,2\n",
    "np.nonzero(ar)"
   ]
  },
  {
   "cell_type": "code",
   "execution_count": 166,
   "id": "2f5f843f",
   "metadata": {},
   "outputs": [],
   "source": [
    "import sys"
   ]
  },
  {
   "cell_type": "code",
   "execution_count": 168,
   "id": "4da6465f",
   "metadata": {},
   "outputs": [],
   "source": [
    "# size compaision\n",
    "py_ar =  [0,4,34,54]"
   ]
  },
  {
   "cell_type": "code",
   "execution_count": 169,
   "id": "a0b24085",
   "metadata": {},
   "outputs": [],
   "source": [
    "np_ar = np.array(py_ar)"
   ]
  },
  {
   "cell_type": "code",
   "execution_count": 175,
   "id": "cd7a46d7",
   "metadata": {},
   "outputs": [
    {
     "data": {
      "text/plain": [
       "112"
      ]
     },
     "execution_count": 175,
     "metadata": {},
     "output_type": "execute_result"
    }
   ],
   "source": [
    "# will tell size of 1 element * len of array\n",
    "sys.getsizeof(1) * len(py_ar)"
   ]
  },
  {
   "cell_type": "code",
   "execution_count": 178,
   "id": "7262f0be",
   "metadata": {},
   "outputs": [
    {
     "data": {
      "text/plain": [
       "16"
      ]
     },
     "execution_count": 178,
     "metadata": {},
     "output_type": "execute_result"
    }
   ],
   "source": [
    "# itemsize is one attribute * nos of attribute\n",
    "np_ar.itemsize * len(py_ar)"
   ]
  },
  {
   "cell_type": "code",
   "execution_count": 184,
   "id": "fb0c184a",
   "metadata": {},
   "outputs": [
    {
     "data": {
      "text/plain": [
       "  C_CONTIGUOUS : True\n",
       "  F_CONTIGUOUS : False\n",
       "  OWNDATA : True\n",
       "  WRITEABLE : True\n",
       "  ALIGNED : True\n",
       "  WRITEBACKIFCOPY : False\n",
       "  UPDATEIFCOPY : False"
      ]
     },
     "execution_count": 184,
     "metadata": {},
     "output_type": "execute_result"
    }
   ],
   "source": [
    "ar.flags"
   ]
  },
  {
   "cell_type": "code",
   "execution_count": 189,
   "id": "dd76d4a1",
   "metadata": {},
   "outputs": [],
   "source": [
    "p = ar.flat"
   ]
  },
  {
   "cell_type": "code",
   "execution_count": 191,
   "id": "d4450244",
   "metadata": {},
   "outputs": [
    {
     "name": "stdout",
     "output_type": "stream",
     "text": [
      "1\n",
      "2\n",
      "3\n",
      "4\n",
      "5\n",
      "6\n",
      "7\n",
      "0\n",
      "1\n"
     ]
    }
   ],
   "source": []
  },
  {
   "cell_type": "markdown",
   "id": "e333aea1",
   "metadata": {},
   "source": [
    "# * get details from numpy library attribute and method*"
   ]
  },
  {
   "cell_type": "markdown",
   "id": "7cfb68c4",
   "metadata": {},
   "source": [
    "From Copy"
   ]
  },
  {
   "cell_type": "code",
   "execution_count": 194,
   "id": "3de0ec57",
   "metadata": {},
   "outputs": [],
   "source": [
    "# difference between list and array (array can contain only same data type whereas list can contain anything)\n",
    "# array consume less memory\n",
    "# array are faster\n",
    "# array are coll of elements of same datatype, can be 1d, 2d, 3d etc"
   ]
  },
  {
   "cell_type": "code",
   "execution_count": 195,
   "id": "a26dbed1",
   "metadata": {},
   "outputs": [],
   "source": [
    "#creating numpy array"
   ]
  },
  {
   "cell_type": "code",
   "execution_count": 211,
   "id": "f62fc8f1",
   "metadata": {},
   "outputs": [],
   "source": [
    "array = np.array([2,5,10,45])"
   ]
  },
  {
   "cell_type": "code",
   "execution_count": 212,
   "id": "43ce92e2",
   "metadata": {},
   "outputs": [
    {
     "data": {
      "text/plain": [
       "array([ 2,  5, 10, 45])"
      ]
     },
     "execution_count": 212,
     "metadata": {},
     "output_type": "execute_result"
    }
   ],
   "source": [
    "array"
   ]
  },
  {
   "cell_type": "code",
   "execution_count": 213,
   "id": "412e6f0f",
   "metadata": {},
   "outputs": [],
   "source": [
    "arange = np.arange(15)"
   ]
  },
  {
   "cell_type": "code",
   "execution_count": 214,
   "id": "826ae0e2",
   "metadata": {},
   "outputs": [
    {
     "data": {
      "text/plain": [
       "array([ 0,  1,  2,  3,  4,  5,  6,  7,  8,  9, 10, 11, 12, 13, 14])"
      ]
     },
     "execution_count": 214,
     "metadata": {},
     "output_type": "execute_result"
    }
   ],
   "source": [
    "arange"
   ]
  },
  {
   "cell_type": "code",
   "execution_count": 215,
   "id": "60b4c98e",
   "metadata": {},
   "outputs": [],
   "source": [
    "zeros = np.zeros(10)"
   ]
  },
  {
   "cell_type": "code",
   "execution_count": 216,
   "id": "e0626693",
   "metadata": {},
   "outputs": [
    {
     "data": {
      "text/plain": [
       "array([0., 0., 0., 0., 0., 0., 0., 0., 0., 0.])"
      ]
     },
     "execution_count": 216,
     "metadata": {},
     "output_type": "execute_result"
    }
   ],
   "source": [
    "zeros"
   ]
  },
  {
   "cell_type": "code",
   "execution_count": 217,
   "id": "e7cc8514",
   "metadata": {},
   "outputs": [],
   "source": [
    "once = np.ones(10)"
   ]
  },
  {
   "cell_type": "code",
   "execution_count": 218,
   "id": "6d689a11",
   "metadata": {},
   "outputs": [
    {
     "data": {
      "text/plain": [
       "array([1., 1., 1., 1., 1., 1., 1., 1., 1., 1.])"
      ]
     },
     "execution_count": 218,
     "metadata": {},
     "output_type": "execute_result"
    }
   ],
   "source": [
    "once"
   ]
  },
  {
   "cell_type": "code",
   "execution_count": 230,
   "id": "c427143c",
   "metadata": {},
   "outputs": [],
   "source": [
    "# start, stop, numbersReqd\n",
    "linspace = np.linspace(1,100,10)"
   ]
  },
  {
   "cell_type": "code",
   "execution_count": 231,
   "id": "9f7fd48f",
   "metadata": {},
   "outputs": [
    {
     "data": {
      "text/plain": [
       "array([  1.,  12.,  23.,  34.,  45.,  56.,  67.,  78.,  89., 100.])"
      ]
     },
     "execution_count": 231,
     "metadata": {},
     "output_type": "execute_result"
    }
   ],
   "source": [
    "linspace"
   ]
  },
  {
   "cell_type": "code",
   "execution_count": 236,
   "id": "bb2bc7f3",
   "metadata": {},
   "outputs": [],
   "source": [
    "# 1 row with 5 colums\n",
    "random = np.random.rand(5)"
   ]
  },
  {
   "cell_type": "code",
   "execution_count": 240,
   "id": "c54aacdc",
   "metadata": {},
   "outputs": [
    {
     "data": {
      "text/plain": [
       "array([0.16370589, 0.77955835, 0.32705325, 0.42011046, 0.50588288])"
      ]
     },
     "execution_count": 240,
     "metadata": {},
     "output_type": "execute_result"
    }
   ],
   "source": [
    "random"
   ]
  },
  {
   "cell_type": "code",
   "execution_count": 238,
   "id": "b8af4ce0",
   "metadata": {},
   "outputs": [],
   "source": [
    "# 4 rows, 5 colums\n",
    "random1 = np.random.rand(4,5)"
   ]
  },
  {
   "cell_type": "code",
   "execution_count": 239,
   "id": "0b7a7c31",
   "metadata": {},
   "outputs": [
    {
     "data": {
      "text/plain": [
       "array([[0.58900886, 0.45319406, 0.0139275 , 0.5474435 , 0.53144667],\n",
       "       [0.81568413, 0.15452264, 0.16480767, 0.43076635, 0.90269263],\n",
       "       [0.83068936, 0.69693693, 0.61810482, 0.5675359 , 0.63685843],\n",
       "       [0.99309607, 0.98038572, 0.93280553, 0.79354298, 0.60591934]])"
      ]
     },
     "execution_count": 239,
     "metadata": {},
     "output_type": "execute_result"
    }
   ],
   "source": [
    "random1"
   ]
  },
  {
   "cell_type": "code",
   "execution_count": 254,
   "id": "ec031b61",
   "metadata": {},
   "outputs": [],
   "source": [
    "# return s sample from the \"sample normal\" distribution\n",
    "randomint = np.random.randn(4,5)"
   ]
  },
  {
   "cell_type": "code",
   "execution_count": 265,
   "id": "3c7832ae",
   "metadata": {},
   "outputs": [
    {
     "data": {
      "text/plain": [
       "array([[-0.07853581,  1.55706175, -0.00386214, -0.54952439,  0.11777663],\n",
       "       [-0.37838202, -0.31801384, -1.10531604, -0.89342005,  1.02152345],\n",
       "       [ 0.19121633, -0.78874282,  0.55053123,  0.7561978 ,  0.24132183],\n",
       "       [ 0.86948739,  0.18747214, -0.15840366, -0.19957245,  1.40780978]])"
      ]
     },
     "execution_count": 265,
     "metadata": {},
     "output_type": "execute_result"
    }
   ],
   "source": [
    "randomint"
   ]
  },
  {
   "cell_type": "markdown",
   "id": "69deec1b",
   "metadata": {},
   "source": [
    "# attributes"
   ]
  },
  {
   "cell_type": "code",
   "execution_count": 297,
   "id": "7ac8147d",
   "metadata": {},
   "outputs": [],
   "source": [
    "# 1d, 2d, 3d\n",
    "a = np.array([1,2,3,4])\n",
    "b = np.array([[1,2],[3,4],[6,8]])\n",
    "c = np.array([[[1,2,3]],[[4,5,6]],[[7,0,1]]])"
   ]
  },
  {
   "cell_type": "code",
   "execution_count": 302,
   "id": "f7e5ed88",
   "metadata": {},
   "outputs": [
    {
     "name": "stdout",
     "output_type": "stream",
     "text": [
      "1 2 3\n"
     ]
    }
   ],
   "source": [
    "print(a.ndim, b.ndim, c.ndim)"
   ]
  },
  {
   "cell_type": "code",
   "execution_count": 303,
   "id": "f15d05c8",
   "metadata": {},
   "outputs": [
    {
     "name": "stdout",
     "output_type": "stream",
     "text": [
      "(4,) (3, 2) (3, 1, 3)\n"
     ]
    }
   ],
   "source": [
    "print(a.shape, b.shape, c.shape)"
   ]
  },
  {
   "cell_type": "code",
   "execution_count": 304,
   "id": "f7ba8247",
   "metadata": {},
   "outputs": [
    {
     "name": "stdout",
     "output_type": "stream",
     "text": [
      "4 6 9\n"
     ]
    }
   ],
   "source": [
    "print(a.size, b.size, c.size)"
   ]
  },
  {
   "cell_type": "code",
   "execution_count": 305,
   "id": "8ad6ce09",
   "metadata": {},
   "outputs": [
    {
     "name": "stdout",
     "output_type": "stream",
     "text": [
      "int32 int32 int32\n"
     ]
    }
   ],
   "source": [
    "print(a.dtype, b.dtype, c.dtype)"
   ]
  },
  {
   "cell_type": "code",
   "execution_count": 310,
   "id": "63438dd6",
   "metadata": {},
   "outputs": [
    {
     "name": "stdout",
     "output_type": "stream",
     "text": [
      "4 4 4\n"
     ]
    }
   ],
   "source": [
    "# size in bytes in each element of array\n",
    "print(a.itemsize, b.itemsize, c.itemsize)"
   ]
  },
  {
   "cell_type": "code",
   "execution_count": 311,
   "id": "053c9ef6",
   "metadata": {},
   "outputs": [
    {
     "data": {
      "text/plain": [
       "array([[[1, 2, 3]],\n",
       "\n",
       "       [[4, 5, 6]],\n",
       "\n",
       "       [[7, 0, 1]]])"
      ]
     },
     "execution_count": 311,
     "metadata": {},
     "output_type": "execute_result"
    }
   ],
   "source": [
    "c"
   ]
  },
  {
   "cell_type": "code",
   "execution_count": null,
   "id": "81383dcf",
   "metadata": {},
   "outputs": [],
   "source": [
    "# datatype can be used as function\n",
    "o = np.array([1,2,3],dtype='f')"
   ]
  },
  {
   "cell_type": "code",
   "execution_count": 327,
   "id": "f5a98b1a",
   "metadata": {},
   "outputs": [
    {
     "name": "stdout",
     "output_type": "stream",
     "text": [
      "float64\n"
     ]
    }
   ],
   "source": [
    "# can change type of array by typecasting \n",
    "tc = np.zeros(5) # default have float\n",
    "print(tc.dtype)"
   ]
  },
  {
   "cell_type": "code",
   "execution_count": 328,
   "id": "e901959e",
   "metadata": {},
   "outputs": [
    {
     "data": {
      "text/plain": [
       "array([0., 0., 0., 0., 0.])"
      ]
     },
     "execution_count": 328,
     "metadata": {},
     "output_type": "execute_result"
    }
   ],
   "source": [
    "tc.astype('int8')\n",
    "tc"
   ]
  },
  {
   "cell_type": "code",
   "execution_count": 330,
   "id": "7fc1466f",
   "metadata": {},
   "outputs": [
    {
     "data": {
      "text/plain": [
       "array([1. , 2. , 2.5])"
      ]
     },
     "execution_count": 330,
     "metadata": {},
     "output_type": "execute_result"
    }
   ],
   "source": [
    "x = np.array([1, 2, 2.5])\n",
    "x"
   ]
  },
  {
   "cell_type": "code",
   "execution_count": 333,
   "id": "78337b87",
   "metadata": {},
   "outputs": [
    {
     "data": {
      "text/plain": [
       "array([1, 2, 2])"
      ]
     },
     "execution_count": 333,
     "metadata": {},
     "output_type": "execute_result"
    }
   ],
   "source": [
    "x.astype(int)"
   ]
  },
  {
   "cell_type": "code",
   "execution_count": 334,
   "id": "08a4bc4d",
   "metadata": {},
   "outputs": [
    {
     "data": {
      "text/plain": [
       "array([1. , 2. , 2.5])"
      ]
     },
     "execution_count": 334,
     "metadata": {},
     "output_type": "execute_result"
    }
   ],
   "source": [
    "x"
   ]
  },
  {
   "cell_type": "code",
   "execution_count": 339,
   "id": "3bc04566",
   "metadata": {},
   "outputs": [
    {
     "data": {
      "text/plain": [
       "array([1, 2, 3, 4])"
      ]
     },
     "execution_count": 339,
     "metadata": {},
     "output_type": "execute_result"
    }
   ],
   "source": [
    "a"
   ]
  },
  {
   "cell_type": "code",
   "execution_count": 343,
   "id": "731217f5",
   "metadata": {},
   "outputs": [
    {
     "data": {
      "text/plain": [
       "3"
      ]
     },
     "execution_count": 343,
     "metadata": {},
     "output_type": "execute_result"
    }
   ],
   "source": [
    "a[-2]"
   ]
  },
  {
   "cell_type": "code",
   "execution_count": 344,
   "id": "5dfab9c2",
   "metadata": {},
   "outputs": [
    {
     "data": {
      "text/plain": [
       "array([[1, 2],\n",
       "       [3, 4],\n",
       "       [6, 8]])"
      ]
     },
     "execution_count": 344,
     "metadata": {},
     "output_type": "execute_result"
    }
   ],
   "source": [
    "b"
   ]
  },
  {
   "cell_type": "code",
   "execution_count": 348,
   "id": "c65e0f8d",
   "metadata": {},
   "outputs": [
    {
     "data": {
      "text/plain": [
       "3"
      ]
     },
     "execution_count": 348,
     "metadata": {},
     "output_type": "execute_result"
    }
   ],
   "source": [
    "# first value for row, another rows for column\n",
    "b[1][0]"
   ]
  },
  {
   "cell_type": "code",
   "execution_count": 349,
   "id": "2a599257",
   "metadata": {},
   "outputs": [
    {
     "data": {
      "text/plain": [
       "8"
      ]
     },
     "execution_count": 349,
     "metadata": {},
     "output_type": "execute_result"
    }
   ],
   "source": [
    "b[-1][-1]"
   ]
  },
  {
   "cell_type": "code",
   "execution_count": 359,
   "id": "27af4ca7",
   "metadata": {},
   "outputs": [
    {
     "data": {
      "text/plain": [
       "array([[[1, 2, 3]],\n",
       "\n",
       "       [[4, 5, 6]],\n",
       "\n",
       "       [[7, 0, 1]]])"
      ]
     },
     "execution_count": 359,
     "metadata": {},
     "output_type": "execute_result"
    }
   ],
   "source": [
    "c"
   ]
  },
  {
   "cell_type": "code",
   "execution_count": 355,
   "id": "60cdd944",
   "metadata": {},
   "outputs": [
    {
     "data": {
      "text/plain": [
       "4"
      ]
     },
     "execution_count": 355,
     "metadata": {},
     "output_type": "execute_result"
    }
   ],
   "source": [
    "c[1][0][0]"
   ]
  },
  {
   "cell_type": "code",
   "execution_count": 377,
   "id": "c116c91a",
   "metadata": {},
   "outputs": [],
   "source": [
    "# easy explaination https://www.youtube.com/watch?v=rITvjYY6D2g\n",
    "dim3ar = np.array([[[1,2,3],[4,5,6]],[[3,2,1],[6,5,4]]])"
   ]
  },
  {
   "cell_type": "code",
   "execution_count": 378,
   "id": "8d126054",
   "metadata": {},
   "outputs": [
    {
     "data": {
      "text/plain": [
       "array([[[1, 2, 3],\n",
       "        [4, 5, 6]],\n",
       "\n",
       "       [[3, 2, 1],\n",
       "        [6, 5, 4]]])"
      ]
     },
     "execution_count": 378,
     "metadata": {},
     "output_type": "execute_result"
    }
   ],
   "source": [
    "dim3ar"
   ]
  },
  {
   "cell_type": "code",
   "execution_count": 402,
   "id": "7f3953b6",
   "metadata": {},
   "outputs": [
    {
     "data": {
      "text/plain": [
       "5"
      ]
     },
     "execution_count": 402,
     "metadata": {},
     "output_type": "execute_result"
    }
   ],
   "source": [
    "dim3ar[0][1][1]"
   ]
  },
  {
   "cell_type": "code",
   "execution_count": 401,
   "id": "c0805d29",
   "metadata": {},
   "outputs": [
    {
     "data": {
      "text/plain": [
       "array([[1, 2],\n",
       "       [3, 4],\n",
       "       [6, 8]])"
      ]
     },
     "execution_count": 401,
     "metadata": {},
     "output_type": "execute_result"
    }
   ],
   "source": [
    "#slicing of 1d array a[start:end:step]\n",
    "#slicing of 2d array a[start:end:step,start:end:step]\n",
    "#slicing of 2d array a[start:end:step,start:end:step,start:end:step]\n",
    "# https://www.youtube.com/watch?v=fIXh-gmR7mQ\n",
    "b"
   ]
  },
  {
   "cell_type": "code",
   "execution_count": 413,
   "id": "f2b65503",
   "metadata": {},
   "outputs": [
    {
     "data": {
      "text/plain": [
       "array([[[1, 2, 3],\n",
       "        [4, 5, 6]],\n",
       "\n",
       "       [[3, 2, 1],\n",
       "        [6, 5, 4]]])"
      ]
     },
     "execution_count": 413,
     "metadata": {},
     "output_type": "execute_result"
    }
   ],
   "source": [
    "dim3ar"
   ]
  },
  {
   "cell_type": "code",
   "execution_count": 412,
   "id": "93c7811c",
   "metadata": {},
   "outputs": [
    {
     "data": {
      "text/plain": [
       "array([[[4]]])"
      ]
     },
     "execution_count": 412,
     "metadata": {},
     "output_type": "execute_result"
    }
   ],
   "source": [
    "dim3ar[0:1,1:,0:1]"
   ]
  },
  {
   "cell_type": "code",
   "execution_count": 404,
   "id": "6cf70420",
   "metadata": {},
   "outputs": [
    {
     "data": {
      "text/plain": [
       "array([[2, 5],\n",
       "       [2, 5]])"
      ]
     },
     "execution_count": 404,
     "metadata": {},
     "output_type": "execute_result"
    }
   ],
   "source": [
    "dim3ar[:,:,1]"
   ]
  },
  {
   "cell_type": "code",
   "execution_count": 409,
   "id": "1322f2ea",
   "metadata": {},
   "outputs": [
    {
     "data": {
      "text/plain": [
       "array([[[1]]])"
      ]
     },
     "execution_count": 409,
     "metadata": {},
     "output_type": "execute_result"
    }
   ],
   "source": [
    "dim3ar[0:1,0:1,0:1]"
   ]
  },
  {
   "cell_type": "code",
   "execution_count": 416,
   "id": "1f681ef6",
   "metadata": {},
   "outputs": [],
   "source": [
    "# easy explaination https://www.youtube.com/watch?v=rITvjYY6D2g\n",
    "dim3d = np.array([[[1,2,3],[4,5,6]],[[7,8,9],[10,11,12]]])"
   ]
  },
  {
   "cell_type": "code",
   "execution_count": 417,
   "id": "d94fff22",
   "metadata": {},
   "outputs": [
    {
     "data": {
      "text/plain": [
       "array([[[ 1,  2,  3],\n",
       "        [ 4,  5,  6]],\n",
       "\n",
       "       [[ 7,  8,  9],\n",
       "        [10, 11, 12]]])"
      ]
     },
     "execution_count": 417,
     "metadata": {},
     "output_type": "execute_result"
    }
   ],
   "source": [
    "dim3d"
   ]
  },
  {
   "cell_type": "code",
   "execution_count": 421,
   "id": "7a97d8fd",
   "metadata": {},
   "outputs": [
    {
     "data": {
      "text/plain": [
       "array([[[2]]])"
      ]
     },
     "execution_count": 421,
     "metadata": {},
     "output_type": "execute_result"
    }
   ],
   "source": [
    "dim3ar[0:1,0:1,1:2]"
   ]
  },
  {
   "cell_type": "code",
   "execution_count": 447,
   "id": "e6a27487",
   "metadata": {},
   "outputs": [
    {
     "name": "stdout",
     "output_type": "stream",
     "text": [
      "[10 11 12 13 14 15 16 17 18 19]\n",
      "[1 4 5]\n",
      "[11 14 15]\n"
     ]
    }
   ],
   "source": [
    "# advance indexing\n",
    "t = np.arange(10,20)\n",
    "print(t)\n",
    "index = np.array([1,4,5])\n",
    "print(index)\n",
    "print(t[index])\n"
   ]
  },
  {
   "cell_type": "code",
   "execution_count": 451,
   "id": "bf57e6a9",
   "metadata": {},
   "outputs": [
    {
     "data": {
      "text/plain": [
       "array([3, 4, 3])"
      ]
     },
     "execution_count": 451,
     "metadata": {},
     "output_type": "execute_result"
    }
   ],
   "source": [
    "# boolena indexing (get value grater than 1)\n",
    "boolen = np.array([[1,-2,3],[4,-2,3]])\n",
    "boolen[boolen>1]"
   ]
  },
  {
   "cell_type": "code",
   "execution_count": 461,
   "id": "c2403930",
   "metadata": {},
   "outputs": [
    {
     "name": "stdout",
     "output_type": "stream",
     "text": [
      "[1 2 3 4]\n"
     ]
    },
    {
     "data": {
      "text/plain": [
       "array([0.33333333, 0.66666667, 1.        , 1.33333333])"
      ]
     },
     "execution_count": 461,
     "metadata": {},
     "output_type": "execute_result"
    }
   ],
   "source": [
    "# arthmatic operation 1)scaler 2)b/w array (add,div,mul etc)\n",
    "c = np.array([1,2,3,4])\n",
    "print(a)\n",
    "a+3\n",
    "a-1\n",
    "a*3\n",
    "a/3"
   ]
  },
  {
   "cell_type": "code",
   "execution_count": 480,
   "id": "bddcf7eb",
   "metadata": {},
   "outputs": [
    {
     "name": "stdout",
     "output_type": "stream",
     "text": [
      "[12 13 14 15]\n",
      "[-10  -9  -8  -7]\n",
      "[11 22 33 44]\n",
      "[0.09090909 0.18181818 0.27272727 0.36363636]\n",
      "[1 2 3 4]\n",
      "[      1    2048  177147 4194304]\n"
     ]
    }
   ],
   "source": [
    "# can also used arthmetic operation by function\n",
    "x = np.array([1,2,3,4])\n",
    "y = np.array([11,11,11,11])\n",
    "print(np.add(x,y))\n",
    "print(np.subtract(x,y))\n",
    "print(np.multiply(x,y))\n",
    "print(np.divide(x,y))\n",
    "print(np.mod(x,y))\n",
    "print(np.power(x,y))\n"
   ]
  },
  {
   "cell_type": "code",
   "execution_count": null,
   "id": "dab68280",
   "metadata": {},
   "outputs": [],
   "source": []
  },
  {
   "cell_type": "code",
   "execution_count": null,
   "id": "b729573b",
   "metadata": {},
   "outputs": [],
   "source": []
  },
  {
   "cell_type": "code",
   "execution_count": null,
   "id": "7dc02285",
   "metadata": {},
   "outputs": [],
   "source": []
  }
 ],
 "metadata": {
  "kernelspec": {
   "display_name": "Python 3 (ipykernel)",
   "language": "python",
   "name": "python3"
  },
  "language_info": {
   "codemirror_mode": {
    "name": "ipython",
    "version": 3
   },
   "file_extension": ".py",
   "mimetype": "text/x-python",
   "name": "python",
   "nbconvert_exporter": "python",
   "pygments_lexer": "ipython3",
   "version": "3.9.7"
  }
 },
 "nbformat": 4,
 "nbformat_minor": 5
}
