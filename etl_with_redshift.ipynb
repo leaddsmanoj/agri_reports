{
 "cells": [
  {
   "cell_type": "code",
   "execution_count": 13,
   "id": "c1322475",
   "metadata": {},
   "outputs": [
    {
     "name": "stdout",
     "output_type": "stream",
     "text": [
      "Requirement already satisfied: psycopg2-binary in c:\\users\\agribazaar\\anaconda3\\lib\\site-packages (2.9.3)\n"
     ]
    }
   ],
   "source": [
    "!!pip install psycopg2\n",
    "!pip install psycopg2-binary"
   ]
  },
  {
   "cell_type": "code",
   "execution_count": 14,
   "id": "4c351f00",
   "metadata": {},
   "outputs": [],
   "source": [
    "import pandas as pd\n",
    "import psycopg2\n",
    "from sqlalchemy import create_engine\n",
    "from sqlalchemy import text"
   ]
  },
  {
   "cell_type": "code",
   "execution_count": 15,
   "id": "87008bcd",
   "metadata": {},
   "outputs": [],
   "source": [
    "sql = \"\"\"\n",
    "SELECT top 10 * \n",
    "FROM \n",
    "pg_user\n",
    ";\n",
    "\"\"\" "
   ]
  },
  {
   "cell_type": "code",
   "execution_count": 17,
   "id": "85e794e5",
   "metadata": {},
   "outputs": [],
   "source": [
    "redshift_endpoint1 = \"redshift-cluster-1.cqunbzze7abb.us-east-1.redshift.amazonaws.com\"\n",
    "redshift_user1 = \"awsuser\"\n",
    "redshift_pass1 = \"Manoj007\"\n",
    "port1 = 5439 #whaterver your Redshift portnumber is\n",
    "dbname1 = \"dev\""
   ]
  },
  {
   "cell_type": "code",
   "execution_count": 18,
   "id": "84492889",
   "metadata": {},
   "outputs": [],
   "source": [
    "from sqlalchemy import create_engine\n",
    "from sqlalchemy import text\n",
    "engine_string = \"postgresql+psycopg2://%s:%s@%s:%d/%s\" \\\n",
    "% (redshift_user1, redshift_pass1, redshift_endpoint1, port1, dbname1)\n",
    "engine1 = create_engine(engine_string)"
   ]
  },
  {
   "cell_type": "code",
   "execution_count": 19,
   "id": "0e92964e",
   "metadata": {},
   "outputs": [],
   "source": [
    "df1 = pd.read_sql_query(text(sql), engine1)\n"
   ]
  },
  {
   "cell_type": "code",
   "execution_count": 20,
   "id": "e91dcfa7",
   "metadata": {},
   "outputs": [
    {
     "data": {
      "text/html": [
       "<div>\n",
       "<style scoped>\n",
       "    .dataframe tbody tr th:only-of-type {\n",
       "        vertical-align: middle;\n",
       "    }\n",
       "\n",
       "    .dataframe tbody tr th {\n",
       "        vertical-align: top;\n",
       "    }\n",
       "\n",
       "    .dataframe thead th {\n",
       "        text-align: right;\n",
       "    }\n",
       "</style>\n",
       "<table border=\"1\" class=\"dataframe\">\n",
       "  <thead>\n",
       "    <tr style=\"text-align: right;\">\n",
       "      <th></th>\n",
       "      <th>usename</th>\n",
       "      <th>usesysid</th>\n",
       "      <th>usecreatedb</th>\n",
       "      <th>usesuper</th>\n",
       "      <th>usecatupd</th>\n",
       "      <th>passwd</th>\n",
       "      <th>valuntil</th>\n",
       "      <th>useconfig</th>\n",
       "    </tr>\n",
       "  </thead>\n",
       "  <tbody>\n",
       "    <tr>\n",
       "      <th>0</th>\n",
       "      <td>rdsdb</td>\n",
       "      <td>1</td>\n",
       "      <td>True</td>\n",
       "      <td>True</td>\n",
       "      <td>True</td>\n",
       "      <td>********</td>\n",
       "      <td>infinity</td>\n",
       "      <td>None</td>\n",
       "    </tr>\n",
       "    <tr>\n",
       "      <th>1</th>\n",
       "      <td>awsuser</td>\n",
       "      <td>100</td>\n",
       "      <td>True</td>\n",
       "      <td>True</td>\n",
       "      <td>False</td>\n",
       "      <td>********</td>\n",
       "      <td>None</td>\n",
       "      <td>None</td>\n",
       "    </tr>\n",
       "  </tbody>\n",
       "</table>\n",
       "</div>"
      ],
      "text/plain": [
       "   usename  usesysid  usecreatedb  usesuper  usecatupd    passwd  valuntil  \\\n",
       "0    rdsdb         1         True      True       True  ********  infinity   \n",
       "1  awsuser       100         True      True      False  ********      None   \n",
       "\n",
       "  useconfig  \n",
       "0      None  \n",
       "1      None  "
      ]
     },
     "execution_count": 20,
     "metadata": {},
     "output_type": "execute_result"
    }
   ],
   "source": [
    "df1.head()"
   ]
  },
  {
   "cell_type": "code",
   "execution_count": null,
   "id": "5e6995cb",
   "metadata": {},
   "outputs": [],
   "source": []
  },
  {
   "cell_type": "code",
   "execution_count": null,
   "id": "ec1e639d",
   "metadata": {},
   "outputs": [],
   "source": []
  },
  {
   "cell_type": "code",
   "execution_count": null,
   "id": "b73ee1b6",
   "metadata": {},
   "outputs": [],
   "source": []
  },
  {
   "cell_type": "code",
   "execution_count": null,
   "id": "2632ea52",
   "metadata": {},
   "outputs": [],
   "source": []
  },
  {
   "cell_type": "code",
   "execution_count": null,
   "id": "ecb6dc8e",
   "metadata": {},
   "outputs": [],
   "source": []
  }
 ],
 "metadata": {
  "kernelspec": {
   "display_name": "Python 3 (ipykernel)",
   "language": "python",
   "name": "python3"
  },
  "language_info": {
   "codemirror_mode": {
    "name": "ipython",
    "version": 3
   },
   "file_extension": ".py",
   "mimetype": "text/x-python",
   "name": "python",
   "nbconvert_exporter": "python",
   "pygments_lexer": "ipython3",
   "version": "3.9.7"
  }
 },
 "nbformat": 4,
 "nbformat_minor": 5
}
